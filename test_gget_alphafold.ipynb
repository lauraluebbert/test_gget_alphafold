{
  "cells": [
    {
      "cell_type": "markdown",
      "metadata": {
        "id": "view-in-github",
        "colab_type": "text"
      },
      "source": [
        "<a href=\"https://colab.research.google.com/github/lauraluebbert/test_gget_alphafold/blob/main/test_gget_alphafold.ipynb\" target=\"_parent\"><img src=\"https://colab.research.google.com/assets/colab-badge.svg\" alt=\"Open In Colab\"/></a>"
      ]
    },
    {
      "cell_type": "markdown",
      "source": [
        "# [gget alphafold](https://github.com/pachterlab/gget) test\n",
        "\n",
        "___"
      ],
      "metadata": {
        "id": "UEtruYiNvaku"
      }
    },
    {
      "cell_type": "markdown",
      "source": [
        "Install and import gget:"
      ],
      "metadata": {
        "id": "hn85VENdvV-X"
      }
    },
    {
      "cell_type": "code",
      "source": [
        "!uv pip install gget\n",
        "import gget"
      ],
      "metadata": {
        "id": "QMLCmDn4JORp"
      },
      "execution_count": null,
      "outputs": []
    },
    {
      "cell_type": "markdown",
      "source": [
        "Install OpenMM:  "
      ],
      "metadata": {
        "id": "KYjgXu2jvXvh"
      }
    },
    {
      "cell_type": "code",
      "source": [
        "import os, sys, subprocess, site, pathlib, textwrap\n",
        "%config InlineBackend.figure_format='retina'\n",
        "\n",
        "# For use with Amber relax\n",
        "!uv pip install \"numpy<1.24\" --force-reinstall\n",
        "\n",
        "# Force JAX to ignore CUDA plugins and use CPU\n",
        "os.environ[\"JAX_PLATFORMS\"] = \"cpu\"\n",
        "os.environ[\"XLA_PYTHON_CLIENT_PREALLOCATE\"] = \"false\"\n",
        "\n",
        "# Make sure GPU plugins are gone and JAX is on a matching CPU wheel\n",
        "subprocess.run(f\"{sys.executable} -m pip uninstall -y jax-cuda12-plugin jax-cuda12-pjrt jax_plugins\", shell=True, check=False)\n",
        "subprocess.run(f\"{sys.executable} -m pip install -U 'jax==0.4.26' 'jaxlib==0.4.26'\", shell=True, check=True)\n",
        "\n",
        "# Install OpenMM 8\n",
        "!pip install \"openmm>=8,<9\"\n",
        "\n",
        "# Create a lightweight 'simtk' shim that re-exports OpenMM 8 symbols\n",
        "site_pkgs = site.getsitepackages()[0]  # e.g., /usr/local/lib/python3.x/dist-packages\n",
        "shim_root = pathlib.Path(site_pkgs) / \"simtk\"\n",
        "(shim_root / \"openmm\" / \"app\").mkdir(parents=True, exist_ok=True)\n",
        "\n",
        "# simtk/__init__.py\n",
        "(shim_root / \"__init__.py\").write_text(\"\")\n",
        "\n",
        "# simtk/openmm/__init__.py -> re-export openmm 8 API\n",
        "(shim_root / \"openmm\" / \"__init__.py\").write_text(textwrap.dedent(\"\"\"\\\n",
        "    # Compatibility shim for legacy imports: `import simtk.openmm as openmm`\n",
        "    from openmm import *  # re-export core openmm symbols\n",
        "    from openmm import unit as unit  # provide `simtk.openmm.unit` attribute\n",
        "    try:\n",
        "        # make `from simtk.openmm import app` work via attribute\n",
        "        from openmm import app as app\n",
        "    except Exception:\n",
        "        pass\n",
        "\"\"\"))\n",
        "\n",
        "# simtk/openmm/app/__init__.py -> re-export app layer\n",
        "(shim_root / \"openmm\" / \"app\" / \"__init__.py\").write_text(textwrap.dedent(\"\"\"\\\n",
        "    # Compatibility shim for: `from simtk.openmm.app import *`\n",
        "    from openmm.app import *\n",
        "\"\"\"))\n",
        "\n",
        "# simtk/unit.py -> legacy `from simtk import unit`\n",
        "(shim_root / \"unit.py\").write_text(\"from openmm.unit import *\\n\")\n",
        "\n",
        "# Test the legacy imports\n",
        "try:\n",
        "    import simtk.openmm as openmm\n",
        "    from simtk.openmm import app\n",
        "    from simtk import unit\n",
        "    print(\"Shim OK. OpenMM version:\", openmm.version.version)\n",
        "    # quick smoke test\n",
        "    print(\"Has app.PDBFile:\", hasattr(app, \"PDBFile\"))\n",
        "    print(\"Has unit.nanometer:\", hasattr(unit, \"nanometer\"))\n",
        "except Exception as e:\n",
        "    print(\"Shim/import failed:\", repr(e))"
      ],
      "metadata": {
        "id": "nGaCKpTl9RZa"
      },
      "execution_count": null,
      "outputs": []
    },
    {
      "cell_type": "markdown",
      "source": [
        "Install third-part dependencies and download AlphaFold model parameters using `gget setup` (this might take a few minutes):"
      ],
      "metadata": {
        "id": "a0FlonuWvl3e"
      }
    },
    {
      "cell_type": "code",
      "execution_count": null,
      "metadata": {
        "id": "kIe23J7Crr12"
      },
      "outputs": [],
      "source": [
        "gget.setup(\"alphafold\")"
      ]
    },
    {
      "cell_type": "markdown",
      "source": [
        "Predict the 3D structure of CASP14 target [T1024](https://predictioncenter.org/casp14/target.cgi?id=8&view=all):"
      ],
      "metadata": {
        "id": "4O_4uSj2WF0H"
      }
    },
    {
      "cell_type": "code",
      "source": [
        "gget.alphafold(\n",
        "    \"MAAHKGAEHHHKAAEHHEQAAKHHHAAAEHHEKGEHEQAAHHADTAYAHHKHAEEHAAQAAKHDAEHHAPKPH\",\n",
        "    relax=True,\n",
        "    out=None\n",
        "    )"
      ],
      "metadata": {
        "id": "5tW0_4oYhOov"
      },
      "execution_count": null,
      "outputs": []
    },
    {
      "cell_type": "code",
      "source": [],
      "metadata": {
        "id": "fAOJKovtnbHU"
      },
      "execution_count": null,
      "outputs": []
    }
  ],
  "metadata": {
    "colab": {
      "name": "gget_alphafold.ipynb",
      "provenance": [],
      "gpuType": "T4",
      "include_colab_link": true
    },
    "kernelspec": {
      "display_name": "Python 3",
      "name": "python3"
    },
    "language_info": {
      "name": "python"
    },
    "accelerator": "GPU"
  },
  "nbformat": 4,
  "nbformat_minor": 0
}