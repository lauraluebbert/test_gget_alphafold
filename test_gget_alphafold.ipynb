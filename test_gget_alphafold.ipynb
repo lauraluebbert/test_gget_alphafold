{
 "cells": [
  {
   "cell_type": "markdown",
   "metadata": {
    "id": "view-in-github",
    "colab_type": "text"
   },
   "source": [
    "<a href=\"https://colab.research.google.com/github/lauraluebbert/test_gget_alphafold/blob/main/test_gget_alphafold.ipynb\" target=\"_parent\"><img src=\"https://colab.research.google.com/assets/colab-badge.svg\" alt=\"Open In Colab\"/></a>"
   ]
  },
  {
   "cell_type": "markdown",
   "source": [
    "# [gget alphafold](https://github.com/pachterlab/gget) test\n",
    "\n",
    "___"
   ],
   "metadata": {
    "id": "UEtruYiNvaku"
   }
  },
  {
   "cell_type": "markdown",
   "source": [
    "Install and import gget:"
   ],
   "metadata": {
    "id": "hn85VENdvV-X"
   }
  },
  {
   "cell_type": "code",
   "source": [
    "!pip install -U -q gget\n",
    "import gget"
   ],
   "metadata": {
    "id": "b1n5Mhe-vPar"
   },
   "execution_count": null,
   "outputs": []
  },
  {
   "cell_type": "markdown",
   "source": [
    "Install OpenMM:  "
   ],
   "metadata": {
    "id": "KYjgXu2jvXvh"
   }
  },
  {
   "cell_type": "code",
   "source": [
    "# For pretty plots\n",
    "%config InlineBackend.figure_format='retina'\n",
    "\n",
    "import os\n",
    "import sys\n",
    "\n",
    "python_version = f\"{sys.version_info.major}.{sys.version_info.minor}\"\n",
    "miniforge_dir = os.path.expanduser(\"~/miniforge\")\n",
    "mamba_bin = f\"{miniforge_dir}/bin/mamba\"\n",
    "miniforge_python = f\"{miniforge_dir}/bin/python\"\n",
    "site_packages = f\"{miniforge_dir}/lib/python{python_version}/site-packages\"\n",
    "\n",
    "# Install Miniforge\n",
    "os.system(\"wget -qnc https://github.com/conda-forge/miniforge/releases/latest/download/Miniforge3-Linux-x86_64.sh\")\n",
    "os.system(f\"bash Miniforge3-Linux-x86_64.sh -bfp {miniforge_dir}\")\n",
    "\n",
    "# Install dependencies via mamba into Miniforge\n",
    "os.system(\n",
    "    f\"{mamba_bin} install -y -c conda-forge -c bioconda \"\n",
    "    f\"openmm=8.2.0 python='{python_version}' pip numpy=1.24 scipy jax=0.4.26 jaxlib=0.4.26\"\n",
    ")\n",
    "\n",
    "# Install gget into Miniforge's Python\n",
    "os.system(f\"{miniforge_python} -m pip install -U gget\")\n",
    "\n",
    "# Append Miniforge site-packages to current Python path\n",
    "sys.path.insert(0, site_packages)"
   ],
   "metadata": {
    "id": "nGaCKpTl9RZa"
   },
   "execution_count": null,
   "outputs": []
  },
  {
   "cell_type": "markdown",
   "source": [
    "Install third-part dependencies and download AlphaFold model parameters using `gget setup` (this might take a few minutes):"
   ],
   "metadata": {
    "id": "a0FlonuWvl3e"
   }
  },
  {
   "cell_type": "code",
   "execution_count": null,
   "metadata": {
    "id": "kIe23J7Crr12"
   },
   "outputs": [],
   "source": [
    "gget.setup(\"alphafold\", force=True)\n"
   ]
  },
  {
   "cell_type": "markdown",
   "source": [
    "Predict the 3D structure of CASP14 target [T1024](https://predictioncenter.org/casp14/target.cgi?id=8&view=all):"
   ],
   "metadata": {
    "id": "4O_4uSj2WF0H"
   }
  },
  {
   "cell_type": "code",
   "source": [
    "gget.alphafold(\n",
    "    \"MAAHKGAEHHHKAAEHHEQAAKHHHAAAEHHEKGEHEQAAHHADTAYAHHKHAEEHAAQAAKHDAEHHAPKPH\",\n",
    "    relax=True,\n",
    "    out=None\n",
    "    )"
   ],
   "metadata": {
    "id": "5tW0_4oYhOov"
   },
   "execution_count": null,
   "outputs": []
  },
  {
   "cell_type": "code",
   "source": [],
   "metadata": {
    "id": "fAOJKovtnbHU"
   },
   "execution_count": null,
   "outputs": []
  }
 ],
 "metadata": {
  "colab": {
   "name": "gget_alphafold.ipynb",
   "provenance": [],
   "gpuType": "T4",
   "include_colab_link": true
  },
  "kernelspec": {
   "display_name": "Python 3",
   "name": "python3"
  },
  "language_info": {
   "name": "python"
  },
  "accelerator": "GPU"
 },
 "nbformat": 4,
 "nbformat_minor": 0
}