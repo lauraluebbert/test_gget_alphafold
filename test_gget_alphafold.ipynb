{
  "cells": [
    {
      "cell_type": "markdown",
      "metadata": {
        "id": "view-in-github",
        "colab_type": "text"
      },
      "source": [
        "<a href=\"https://colab.research.google.com/github/lauraluebbert/test_gget_alphafold/blob/main/test_gget_alphafold.ipynb\" target=\"_parent\"><img src=\"https://colab.research.google.com/assets/colab-badge.svg\" alt=\"Open In Colab\"/></a>"
      ]
    },
    {
      "cell_type": "markdown",
      "source": [
        "# [gget alphafold](https://github.com/pachterlab/gget) test\n",
        "\n",
        "___"
      ],
      "metadata": {
        "id": "UEtruYiNvaku"
      }
    },
    {
      "cell_type": "markdown",
      "source": [
        "Install and import gget:"
      ],
      "metadata": {
        "id": "hn85VENdvV-X"
      }
    },
    {
      "cell_type": "code",
      "source": [
        "!pip install -U -q gget\n",
        "import gget"
      ],
      "metadata": {
        "id": "b1n5Mhe-vPar"
      },
      "execution_count": null,
      "outputs": []
    },
    {
      "cell_type": "markdown",
      "source": [
        "Use Miniconda to install OpenMM:  "
      ],
      "metadata": {
        "id": "KYjgXu2jvXvh"
      }
    },
    {
      "cell_type": "code",
      "source": [
        "# For pretty plots\n",
        "%config InlineBackend.figure_format='retina'\n",
        "\n",
        "# Install Miniconda\n",
        "import sys\n",
        "!rm -rf /opt/conda\n",
        "!wget -q -P /tmp \\\n",
        "  https://repo.anaconda.com/miniconda/Miniconda3-latest-Linux-x86_64.sh \\\n",
        "    && bash /tmp/Miniconda3-latest-Linux-x86_64.sh -b -p /opt/conda \\\n",
        "    && rm /tmp/Miniconda3-latest-Linux-x86_64.sh\n",
        "\n",
        "# Install openmm v7.7.0\n",
        "PATH=%env PATH\n",
        "%env PATH=/opt/conda/bin:{PATH}\n",
        "!conda install -qy conda==23.5.2 && conda install -qy -c conda-forge \\\n",
        "      python=3.10 \\\n",
        "      openmm=7.7.0\n",
        "\n",
        "# Uninstall pyOpenSSL to avoid dependecy conflicts\n",
        "!pip uninstall -q -y pyOpenSSL\n",
        "\n",
        "# Add to path\n",
        "sys.path.append('/opt/conda/lib/python3.10/site-packages')"
      ],
      "metadata": {
        "id": "CSYlzCgSpUnB"
      },
      "execution_count": null,
      "outputs": []
    },
    {
      "cell_type": "markdown",
      "source": [
        "Install third-part dependencies and download AlphaFold model parameters using `gget setup` (this might take a few minutes):"
      ],
      "metadata": {
        "id": "a0FlonuWvl3e"
      }
    },
    {
      "cell_type": "code",
      "execution_count": null,
      "metadata": {
        "id": "kIe23J7Crr12"
      },
      "outputs": [],
      "source": [
        "gget.setup(\"alphafold\")"
      ]
    },
    {
      "cell_type": "markdown",
      "source": [
        "Predict the 3D structure of CASP14 target [T1024](https://predictioncenter.org/casp14/target.cgi?id=8&view=all):"
      ],
      "metadata": {
        "id": "4O_4uSj2WF0H"
      }
    },
    {
      "cell_type": "code",
      "source": [
        "gget.alphafold(\n",
        "    \"MAAHKGAEHHHKAAEHHEQAAKHHHAAAEHHEKGEHEQAAHHADTAYAHHKHAEEHAAQAAKHDAEHHAPKPH\",\n",
        "    relax=True,\n",
        "    out=None\n",
        "    )"
      ],
      "metadata": {
        "id": "5tW0_4oYhOov"
      },
      "execution_count": null,
      "outputs": []
    },
    {
      "cell_type": "code",
      "source": [],
      "metadata": {
        "id": "Js6w0GQZ1z8f"
      },
      "execution_count": null,
      "outputs": []
    }
  ],
  "metadata": {
    "colab": {
      "name": "gget_alphafold.ipynb",
      "provenance": [],
      "machine_shape": "hm",
      "gpuType": "T4",
      "authorship_tag": "ABX9TyPpfBv1QmbjCzk9LtHmKPp1",
      "include_colab_link": true
    },
    "kernelspec": {
      "display_name": "Python 3",
      "name": "python3"
    },
    "language_info": {
      "name": "python"
    },
    "accelerator": "GPU"
  },
  "nbformat": 4,
  "nbformat_minor": 0
}