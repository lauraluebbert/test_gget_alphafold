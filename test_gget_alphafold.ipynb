{
  "cells": [
    {
      "cell_type": "markdown",
      "metadata": {
        "id": "view-in-github",
        "colab_type": "text"
      },
      "source": [
        "<a href=\"https://colab.research.google.com/github/lauraluebbert/test_gget_alphafold/blob/dev/test_gget_alphafold.ipynb\" target=\"_parent\"><img src=\"https://colab.research.google.com/assets/colab-badge.svg\" alt=\"Open In Colab\"/></a>"
      ]
    },
    {
      "cell_type": "markdown",
      "source": [
        "# [gget alphafold](https://github.com/pachterlab/gget) test\n",
        "\n",
        "___"
      ],
      "metadata": {
        "id": "UEtruYiNvaku"
      }
    },
    {
      "cell_type": "markdown",
      "source": [
        "Install and import gget:"
      ],
      "metadata": {
        "id": "hn85VENdvV-X"
      }
    },
    {
      "cell_type": "code",
      "source": [
        "# Install gget\n",
        "!uv pip uninstall gget\n",
        "!uv pip install \"mysql-connector-python>=8.0.32\" biopython\n",
        "!uv pip install --no-cache-dir git+https://github.com/pachterlab/gget.git@main\n",
        "import gget"
      ],
      "metadata": {
        "id": "QMLCmDn4JORp",
        "outputId": "13ef8f1a-42c5-485c-a90f-693e2bd44ac4",
        "colab": {
          "base_uri": "https://localhost:8080/"
        }
      },
      "execution_count": 1,
      "outputs": [
        {
          "output_type": "stream",
          "name": "stdout",
          "text": [
            "\u001b[2mUsing Python 3.12.11 environment at: /usr\u001b[0m\n",
            "\u001b[2mUninstalled \u001b[1m1 package\u001b[0m \u001b[2min 152ms\u001b[0m\u001b[0m\n",
            " \u001b[31m-\u001b[39m \u001b[1mgget\u001b[0m\u001b[2m==0.29.3 (from git+https://github.com/pachterlab/gget.git@5dc47f3a8e1c70e18af50308406a9ac40c2a70bd)\u001b[0m\n",
            "\u001b[2mUsing Python 3.12.11 environment at: /usr\u001b[0m\n",
            "\u001b[2mAudited \u001b[1m2 packages\u001b[0m \u001b[2min 126ms\u001b[0m\u001b[0m\n",
            "\u001b[2mUsing Python 3.12.11 environment at: /usr\u001b[0m\n",
            "\u001b[2K\u001b[2mResolved \u001b[1m102 packages\u001b[0m \u001b[2min 16.07s\u001b[0m\u001b[0m\n",
            "\u001b[2K\u001b[2mPrepared \u001b[1m1 package\u001b[0m \u001b[2min 9.37s\u001b[0m\u001b[0m\n",
            "\u001b[2K\u001b[2mInstalled \u001b[1m1 package\u001b[0m \u001b[2min 1ms\u001b[0m\u001b[0m\n",
            " \u001b[32m+\u001b[39m \u001b[1mgget\u001b[0m\u001b[2m==0.29.3 (from git+https://github.com/pachterlab/gget.git@ee15b01c6b2b99105a9b84771e8f26a46a07db91)\u001b[0m\n"
          ]
        }
      ]
    },
    {
      "cell_type": "markdown",
      "source": [
        "Install OpenMM:  "
      ],
      "metadata": {
        "id": "KYjgXu2jvXvh"
      }
    },
    {
      "cell_type": "code",
      "source": [
        "# Install OpenMM 8\n",
        "!uv pip install \"openmm>=8,<9\"\n",
        "\n",
        "# Create a lightweight 'simtk' shim that re-exports OpenMM 8 symbols\n",
        "import os, site, pathlib, textwrap\n",
        "\n",
        "site_pkgs = site.getsitepackages()[0]  # e.g., /usr/local/lib/python3.x/dist-packages\n",
        "shim_root = pathlib.Path(site_pkgs) / \"simtk\"\n",
        "(shim_root / \"openmm\" / \"app\").mkdir(parents=True, exist_ok=True)\n",
        "\n",
        "# simtk/__init__.py\n",
        "(shim_root / \"__init__.py\").write_text(\"\")\n",
        "\n",
        "# simtk/openmm/__init__.py -> re-export openmm 8 API\n",
        "(shim_root / \"openmm\" / \"__init__.py\").write_text(textwrap.dedent(\"\"\"\\\n",
        "    # Compatibility shim for legacy imports: `import simtk.openmm as openmm`\n",
        "    from openmm import *  # re-export core openmm symbols\n",
        "    from openmm import unit as unit  # provide `simtk.openmm.unit` attribute\n",
        "    try:\n",
        "        # make `from simtk.openmm import app` work via attribute\n",
        "        from openmm import app as app\n",
        "    except Exception:\n",
        "        pass\n",
        "\"\"\"))\n",
        "\n",
        "# simtk/openmm/app/__init__.py -> re-export app layer\n",
        "(shim_root / \"openmm\" / \"app\" / \"__init__.py\").write_text(textwrap.dedent(\"\"\"\\\n",
        "    # Compatibility shim for: `from simtk.openmm.app import *`\n",
        "    from openmm.app import *\n",
        "\"\"\"))\n",
        "\n",
        "# simtk/unit.py -> legacy `from simtk import unit`\n",
        "(shim_root / \"unit.py\").write_text(\"from openmm.unit import *\\n\")\n",
        "\n",
        "# 3) Test the legacy imports\n",
        "try:\n",
        "    import simtk.openmm as openmm\n",
        "    from simtk.openmm import app\n",
        "    from simtk import unit\n",
        "    print(\"Shim OK. OpenMM version:\", openmm.version.version)\n",
        "    # quick smoke test\n",
        "    print(\"Has app.PDBFile:\", hasattr(app, \"PDBFile\"))\n",
        "    print(\"Has unit.nanometer:\", hasattr(unit, \"nanometer\"))\n",
        "except Exception as e:\n",
        "    print(\"Shim/import failed:\", repr(e))\n",
        "\n",
        "# Install numpy and tensorflow versions compatible with Python 3.12\n",
        "# Allow bigger wheels like TensorFlow to download (5 min timeout)\n",
        "# !UV_HTTP_TIMEOUT=300 uv pip install --upgrade \"numpy>=1.26,<2\" \"tensorflow-cpu>=2.17,<2.18\""
      ],
      "metadata": {
        "id": "nGaCKpTl9RZa",
        "outputId": "f1ae2fb7-6eb2-4554-f71d-be817b2342d6",
        "colab": {
          "base_uri": "https://localhost:8080/"
        }
      },
      "execution_count": 2,
      "outputs": [
        {
          "output_type": "stream",
          "name": "stdout",
          "text": [
            "\u001b[2mUsing Python 3.12.11 environment at: /usr\u001b[0m\n",
            "\u001b[2mAudited \u001b[1m1 package\u001b[0m \u001b[2min 139ms\u001b[0m\u001b[0m\n",
            "Shim OK. OpenMM version: 8.3.1.dev-6e13f13\n",
            "Has app.PDBFile: True\n",
            "Has unit.nanometer: True\n"
          ]
        }
      ]
    },
    {
      "cell_type": "markdown",
      "source": [
        "Install third-part dependencies and download AlphaFold model parameters using `gget setup` (this might take a few minutes):"
      ],
      "metadata": {
        "id": "a0FlonuWvl3e"
      }
    },
    {
      "cell_type": "code",
      "execution_count": 3,
      "metadata": {
        "id": "kIe23J7Crr12",
        "outputId": "8721fe22-450e-4241-f229-809984e9afd2",
        "colab": {
          "base_uri": "https://localhost:8080/"
        }
      },
      "outputs": [
        {
          "output_type": "stream",
          "name": "stderr",
          "text": [
            "INFO:gget.utils:Attempting to install py3Dmol using: uv pip install -U py3Dmol\n",
            "INFO:gget.utils:py3Dmol installed successfully using uv pip install -U py3Dmol.\n",
            "INFO:gget.utils:Installing AlphaFold from source (requires pip and git).\n",
            "INFO:gget.utils:AlphaFold installed succesfully.\n",
            "INFO:gget.utils:Installing pdbfixer from source (requires pip and git).\n",
            "INFO:gget.utils:pdbfixer installed succesfully.\n",
            "INFO:gget.utils:AlphaFold model parameters already downloaded.\n"
          ]
        }
      ],
      "source": [
        "gget.setup(\"alphafold\")"
      ]
    },
    {
      "cell_type": "markdown",
      "source": [
        "Predict the 3D structure of CASP14 target [T1024](https://predictioncenter.org/casp14/target.cgi?id=8&view=all):"
      ],
      "metadata": {
        "id": "4O_4uSj2WF0H"
      }
    },
    {
      "cell_type": "code",
      "source": [
        "gget.alphafold(\n",
        "    \"MAAHKGAEHHHKAAEHHEQAAKHHHAAAEHHEKGEHEQAAHHADTAYAHHKHAEEHAAQAAKHDAEHHAPKPH\",\n",
        "    relax=True,\n",
        "    out=None\n",
        "    )"
      ],
      "metadata": {
        "id": "5tW0_4oYhOov",
        "outputId": "8c2ee895-6a14-4677-e10c-9b8e0e3c126e",
        "colab": {
          "base_uri": "https://localhost:8080/"
        }
      },
      "execution_count": null,
      "outputs": [
        {
          "output_type": "stream",
          "name": "stderr",
          "text": [
            "INFO:gget.utils:Validating input sequence(s).\n",
            "INFO:gget.utils:Using the single-chain (monomer) model.\n",
            "INFO:gget.utils:Finding closest source for reference database.\n",
            "Jackhmmer search:   0%|          | 0/199 [elapsed: 00:00 remaining: ?]"
          ]
        }
      ]
    },
    {
      "cell_type": "code",
      "source": [],
      "metadata": {
        "id": "fAOJKovtnbHU"
      },
      "execution_count": null,
      "outputs": []
    }
  ],
  "metadata": {
    "colab": {
      "name": "gget_alphafold.ipynb",
      "provenance": [],
      "gpuType": "T4",
      "include_colab_link": true
    },
    "kernelspec": {
      "display_name": "Python 3",
      "name": "python3"
    },
    "language_info": {
      "name": "python"
    },
    "accelerator": "GPU"
  },
  "nbformat": 4,
  "nbformat_minor": 0
}