{
  "cells": [
    {
      "cell_type": "markdown",
      "metadata": {
        "id": "view-in-github",
        "colab_type": "text"
      },
      "source": [
        "<a href=\"https://colab.research.google.com/github/lauraluebbert/test_gget_alphafold/blob/main/test_gget_alphafold.ipynb\" target=\"_parent\"><img src=\"https://colab.research.google.com/assets/colab-badge.svg\" alt=\"Open In Colab\"/></a>"
      ]
    },
    {
      "cell_type": "markdown",
      "source": [
        "# [gget alphafold](https://github.com/pachterlab/gget) test\n",
        "\n",
        "___"
      ],
      "metadata": {
        "id": "UEtruYiNvaku"
      }
    },
    {
      "cell_type": "markdown",
      "source": [
        "Install and import gget:"
      ],
      "metadata": {
        "id": "hn85VENdvV-X"
      }
    },
    {
      "cell_type": "code",
      "source": [
        "!pip install -U -q gget\n",
        "import gget"
      ],
      "metadata": {
        "id": "b1n5Mhe-vPar"
      },
      "execution_count": 4,
      "outputs": []
    },
    {
      "cell_type": "markdown",
      "source": [
        "Install OpenMM:  "
      ],
      "metadata": {
        "id": "KYjgXu2jvXvh"
      }
    },
    {
      "cell_type": "code",
      "source": [
        "# For pretty plots\n",
        "%config InlineBackend.figure_format='retina'\n",
        "\n",
        "import os\n",
        "import sys\n",
        "\n",
        "python_version = f\"{sys.version_info.major}.{sys.version_info.minor}\"\n",
        "print(f\"Python version: {python_version}\")\n",
        "miniforge_dir = os.path.expanduser(\"~/miniforge\")\n",
        "mamba_bin = f\"{miniforge_dir}/bin/mamba\"\n",
        "miniforge_python = f\"{miniforge_dir}/bin/python\"\n",
        "site_packages = f\"{miniforge_dir}/lib/python{python_version}/site-packages\"\n",
        "\n",
        "# Install Miniforge\n",
        "os.system(\"wget -qnc https://github.com/conda-forge/miniforge/releases/latest/download/Miniforge3-Linux-x86_64.sh\")\n",
        "os.system(f\"bash Miniforge3-Linux-x86_64.sh -bfp {miniforge_dir}\")\n",
        "\n",
        "# Install dependencies via mamba into Miniforge\n",
        "os.system(\n",
        "    f\"{mamba_bin} install -y -c conda-forge -c bioconda \"\n",
        "    f\"openmm=8.2.0 python='{python_version}' pip numpy=1.24 scipy jax=0.4.26 jaxlib=0.4.26\"\n",
        ")\n",
        "\n",
        "# Install gget into Miniforge's Python\n",
        "os.system(f\"{miniforge_python} -m pip install -U gget\")\n",
        "\n",
        "# Overwrite system with Miniforge's packages\n",
        "sys.path.insert(0, site_packages)\n",
        "\n",
        "# Import gget\n",
        "import gget"
      ],
      "metadata": {
        "id": "Q641vWyfw-6i",
        "outputId": "eca38def-96d1-4281-fcbf-d4fcdc60cec2",
        "colab": {
          "base_uri": "https://localhost:8080/"
        }
      },
      "execution_count": 5,
      "outputs": [
        {
          "output_type": "stream",
          "name": "stdout",
          "text": [
            "Python version: 3.11\n"
          ]
        }
      ]
    },
    {
      "cell_type": "markdown",
      "source": [
        "Install third-part dependencies and download AlphaFold model parameters using `gget setup` (this might take a few minutes):"
      ],
      "metadata": {
        "id": "a0FlonuWvl3e"
      }
    },
    {
      "cell_type": "code",
      "execution_count": 8,
      "metadata": {
        "id": "kIe23J7Crr12",
        "colab": {
          "base_uri": "https://localhost:8080/"
        },
        "outputId": "a2a1efe5-567a-4d3b-c8ff-f967dc6298e9"
      },
      "outputs": [
        {
          "output_type": "stream",
          "name": "stderr",
          "text": [
            "WARNING:root:Warning: importing 'simtk.openmm' is deprecated.  Import 'openmm' instead.\n",
            "INFO:gget.utils:Installing py3Dmol (requires pip).\n",
            "INFO:gget.utils:py3Dmol installed succesfully.\n",
            "INFO:gget.utils:Installing AlphaFold from source (requires pip and git).\n",
            "INFO:gget.utils:AlphaFold installed succesfully.\n",
            "INFO:gget.utils:Installing pdbfixer from source (requires pip and git).\n",
            "INFO:gget.utils:pdbfixer installed succesfully.\n",
            "INFO:gget.utils:AlphaFold model parameters already downloaded.\n"
          ]
        }
      ],
      "source": [
        "gget.setup(\"alphafold\")"
      ]
    },
    {
      "cell_type": "markdown",
      "source": [
        "Predict the 3D structure of CASP14 target [T1024](https://predictioncenter.org/casp14/target.cgi?id=8&view=all):"
      ],
      "metadata": {
        "id": "4O_4uSj2WF0H"
      }
    },
    {
      "cell_type": "code",
      "source": [
        "gget.alphafold(\n",
        "    \"MAAHKGAEHHHKAAEHHEQAAKHHHAAAEHHEKGEHEQAAHHADTAYAHHKHAEEHAAQAAKHDAEHHAPKPH\",\n",
        "    relax=True,\n",
        "    out=None\n",
        "    )"
      ],
      "metadata": {
        "id": "5tW0_4oYhOov",
        "colab": {
          "base_uri": "https://localhost:8080/"
        },
        "outputId": "4705e973-a395-4ee4-c2ab-824caf782a8a"
      },
      "execution_count": null,
      "outputs": [
        {
          "output_type": "stream",
          "name": "stderr",
          "text": [
            "INFO:gget.utils:Validating input sequence(s).\n",
            "INFO:gget.utils:Using the single-chain (monomer) model.\n",
            "INFO:gget.utils:Finding closest source for reference database.\n",
            "Jackhmmer search:  31%|███       | 61/199 [elapsed: 12:13 remaining: 26:01]"
          ]
        }
      ]
    },
    {
      "cell_type": "code",
      "source": [],
      "metadata": {
        "id": "fAOJKovtnbHU"
      },
      "execution_count": null,
      "outputs": []
    }
  ],
  "metadata": {
    "colab": {
      "name": "gget_alphafold.ipynb",
      "provenance": [],
      "machine_shape": "hm",
      "gpuType": "T4",
      "include_colab_link": true
    },
    "kernelspec": {
      "display_name": "Python 3",
      "name": "python3"
    },
    "language_info": {
      "name": "python"
    },
    "accelerator": "GPU"
  },
  "nbformat": 4,
  "nbformat_minor": 0
}